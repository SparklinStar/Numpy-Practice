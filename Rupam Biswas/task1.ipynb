{
 "cells": [
  {
   "cell_type": "code",
   "execution_count": 4,
   "id": "a878dd38-e84a-45fc-9dab-61862ae5d155",
   "metadata": {},
   "outputs": [
    {
     "name": "stdout",
     "output_type": "stream",
     "text": [
      "[[0 0]\n",
      " [0 0]]\n",
      "(2, 2)\n",
      "4\n"
     ]
    }
   ],
   "source": [
    "#Create an empty array\n",
    "import numpy as np\n",
    "empty_array = np.empty([2, 2], int)\n",
    "print(empty_array)\n",
    "print(empty_array.shape)\n",
    "print(empty_array.size)\n",
    "#output-\n",
    "#[[0 0]\n",
    "# [0 0]]\n",
    "#(2, 2)\n",
    "#4"
   ]
  },
  {
   "cell_type": "code",
   "execution_count": null,
   "id": "69d61bf2-66ce-4860-880d-6dab5c040671",
   "metadata": {},
   "outputs": [],
   "source": []
  }
 ],
 "metadata": {
  "kernelspec": {
   "display_name": "Python 3 (ipykernel)",
   "language": "python",
   "name": "python3"
  },
  "language_info": {
   "codemirror_mode": {
    "name": "ipython",
    "version": 3
   },
   "file_extension": ".py",
   "mimetype": "text/x-python",
   "name": "python",
   "nbconvert_exporter": "python",
   "pygments_lexer": "ipython3",
   "version": "3.12.0"
  }
 },
 "nbformat": 4,
 "nbformat_minor": 5
}
